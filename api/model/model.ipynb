{
 "cells": [
  {
   "cell_type": "code",
   "execution_count": 42,
   "metadata": {},
   "outputs": [],
   "source": [
    "# import pandas as pd \n",
    "# import numpy as np\n",
    "# import cupy, cudf \n",
    "\n",
    "import cupy as np\n",
    "import cudf as pd\n",
    "from cuml.preprocessing import LabelEncoder "
   ]
  },
  {
   "cell_type": "code",
   "execution_count": null,
   "metadata": {},
   "outputs": [
    {
     "data": {
      "text/plain": [
       "['extenders',\n",
       " 'wireless_clients_count',\n",
       " 'wired_clients_count',\n",
       " 'rssi_median',\n",
       " 'network_speed',\n",
       " 'whole_home_wifi',\n",
       " 'wifi_security',\n",
       " 'wifi_security_plus',\n",
       " 'premium_tech_pro',\n",
       " 'identity_protection',\n",
       " 'family_identity_protection',\n",
       " 'total_shield',\n",
       " 'youtube_tv',\n",
       " 'city_state']"
      ]
     },
     "execution_count": 65,
     "metadata": {},
     "output_type": "execute_result"
    }
   ],
   "source": [
    "data = pd.read_csv('/home/jude/Downloads/current_customers.csv')\n",
    "\n",
    "# Combine state and city into one\n",
    "data['city_state'] = data['city'] + ', ' + data['state']\n",
    "drop = [\n",
    "    'city',\n",
    "    'state',\n",
    "    'acct_id',\n",
    "    'rx_avg_bps',\n",
    "    'tx_avg_bps',\n",
    "    'rx_p95_bps',\n",
    "    'tx_p95_bps',\n",
    "    'tx_max_bps',\n",
    "    'rssi_mean',\n",
    "    'rssi_max',\n",
    "    'rssi_min',\n",
    "    'rx_max_bps',\n",
    "]\n",
    "data.drop(drop, axis=1, inplace=True)\n",
    "\n",
    "# # Make city and state numerical\n",
    "# data['city_state'] = data['city_state'].str.lower()\n",
    "# data['city_state']\n",
    "\n",
    "# Normalize the city_state column\n",
    "data['city_state'] = data['city_state'].str.lower()\n",
    "\n",
    "# Convert city_state to numerical form using LabelEncoder\n",
    "label_encoder = LabelEncoder()\n",
    "data['city_state'] = label_encoder.fit_transform(data['city_state'])\n",
    "\n",
    "# Display the numerical city_state column\n",
    "# data['city_state']\n",
    "data['target']"
   ]
  },
  {
   "cell_type": "code",
   "execution_count": null,
   "metadata": {},
   "outputs": [],
   "source": []
  }
 ],
 "metadata": {
  "kernelspec": {
   "display_name": "trader_gpu",
   "language": "python",
   "name": "python3"
  },
  "language_info": {
   "codemirror_mode": {
    "name": "ipython",
    "version": 3
   },
   "file_extension": ".py",
   "mimetype": "text/x-python",
   "name": "python",
   "nbconvert_exporter": "python",
   "pygments_lexer": "ipython3",
   "version": "3.11.10"
  }
 },
 "nbformat": 4,
 "nbformat_minor": 2
}
